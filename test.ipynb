{
 "cells": [
  {
   "cell_type": "code",
   "execution_count": null,
   "id": "initial_id",
   "metadata": {
    "collapsed": true
   },
   "outputs": [],
   "source": [
    "    for epoch in range(start_epoch + 1, num_epochs + 1):\n",
    "        epoch_loss = [1e10 for _ in range(len(train_loader))]\n",
    "        epoch_start_time = time()\n",
    "        pbar = tqdm(train_loader)\n",
    "        for step, batch in enumerate(pbar):\n",
    "            image = batch[\"image\"]\n",
    "            gt2D = batch[\"gt2D\"]\n",
    "            boxes = batch[\"bboxes\"]\n",
    "            optimizer.zero_grad()\n",
    "            image, gt2D, boxes = image.to(device), gt2D.to(device), boxes.to(device)\n",
    "            logits_pred, iou_pred = medsam_lite_model(image, boxes)\n",
    "            l_seg = seg_loss(logits_pred, gt2D)\n",
    "            l_ce = ce_loss(logits_pred, gt2D.float())\n",
    "            # mask_loss = l_seg + l_ce\n",
    "            mask_loss = seg_loss_weight * l_seg + ce_loss_weight * l_ce\n",
    "            iou_gt = cal_iou(torch.sigmoid(logits_pred) > 0.5, gt2D.bool())\n",
    "            l_iou = iou_loss(iou_pred, iou_gt)\n",
    "            # loss = mask_loss + l_iou\n",
    "            loss = mask_loss + iou_loss_weight * l_iou\n",
    "            epoch_loss[step] = loss.item()\n",
    "            loss.backward()\n",
    "            optimizer.step()\n",
    "            optimizer.zero_grad()\n",
    "            pbar.set_description(\n",
    "                f\"Epoch {epoch} at {datetime.now().strftime('%Y-%m-%d %H:%M:%S')}, loss: {loss.item():.4f}\")\n",
    "\n",
    "        epoch_end_time = time()\n",
    "        epoch_loss_reduced = sum(epoch_loss) / len(epoch_loss)\n",
    "        train_losses.append(epoch_loss_reduced)\n",
    "        lr_scheduler.step(epoch_loss_reduced)\n",
    "        model_weights = medsam_lite_model.state_dict()\n",
    "        checkpoint = {\n",
    "            \"model\": model_weights,\n",
    "            \"epoch\": epoch,\n",
    "            \"optimizer\": optimizer.state_dict(),\n",
    "            \"loss\": epoch_loss_reduced,\n",
    "            \"best_loss\": best_loss,\n",
    "        }\n",
    "        torch.save(checkpoint, join(work_dir, \"medsam_lite_latest.pth\"))\n",
    "        if epoch_loss_reduced < best_loss:\n",
    "            print(f\"New best loss: {best_loss:.4f} -> {epoch_loss_reduced:.4f}\")\n",
    "            best_loss = epoch_loss_reduced\n",
    "            checkpoint[\"best_loss\"] = best_loss\n",
    "            torch.save(checkpoint, join(work_dir, \"medsam_lite_best.pth\"))\n",
    "\n",
    "        epoch_loss_reduced = 1e10\n",
    "        # %% plot loss\n",
    "        plt.plot(train_losses)\n",
    "        plt.title(\"Dice + Binary Cross Entropy + IoU Loss\")\n",
    "        plt.xlabel(\"Epoch\")\n",
    "        plt.ylabel(\"Loss\")\n",
    "        plt.savefig(join(model_save_path, args.task_name, work_dir, \"train_loss.png\"))\n",
    "        plt.close()"
   ]
  }
 ],
 "metadata": {
  "kernelspec": {
   "display_name": "Python 3",
   "language": "python",
   "name": "python3"
  },
  "language_info": {
   "codemirror_mode": {
    "name": "ipython",
    "version": 2
   },
   "file_extension": ".py",
   "mimetype": "text/x-python",
   "name": "python",
   "nbconvert_exporter": "python",
   "pygments_lexer": "ipython2",
   "version": "2.7.6"
  }
 },
 "nbformat": 4,
 "nbformat_minor": 5
}
